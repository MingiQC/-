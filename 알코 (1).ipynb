{
 "cells": [
  {
   "cell_type": "code",
   "execution_count": 2,
   "metadata": {},
   "outputs": [],
   "source": [
    "# 물리학과 2014103332 김민기 HW2_20191001\n",
    "# 03강 변수, 자료형, 변환"
   ]
  },
  {
   "cell_type": "code",
   "execution_count": 3,
   "metadata": {},
   "outputs": [
    {
     "name": "stdout",
     "output_type": "stream",
     "text": [
      "1\n"
     ]
    }
   ],
   "source": [
    "\"\"\"\"\"\"\"\"\"\"\"\"\"\"\"\"\"\"\"\"\"\n",
    " 값을 변수에 저장하기\n",
    "\n",
    "\"\"\"\"\"\"\"\"\"\"\"\"\"\"\"\"\"\"\"\"\"\n",
    "\n",
    "\n",
    "''' 대입문/할당문'''\n",
    "x=1\n",
    "x\n",
    "print(x)"
   ]
  },
  {
   "cell_type": "code",
   "execution_count": 6,
   "metadata": {},
   "outputs": [
    {
     "name": "stdout",
     "output_type": "stream",
     "text": [
      "1\n",
      "2\n",
      "4\n",
      "5\n",
      "9\n"
     ]
    }
   ],
   "source": [
    "'''변수에 값 대입하기'''\n",
    "x=1\n",
    "print(x)\n",
    "y=2\n",
    "print(y)\n",
    "x=x+3\n",
    "print(x)\n",
    "y=y+3\n",
    "print(y)\n",
    "z=x+y\n",
    "print(z)"
   ]
  },
  {
   "cell_type": "code",
   "execution_count": 7,
   "metadata": {},
   "outputs": [
    {
     "name": "stdout",
     "output_type": "stream",
     "text": [
      "3 4\n"
     ]
    }
   ],
   "source": [
    "'''두 변수의 값 교체'''\n",
    "x=3\n",
    "y=4\n",
    "print(x,y)"
   ]
  },
  {
   "cell_type": "code",
   "execution_count": 8,
   "metadata": {},
   "outputs": [
    {
     "name": "stdout",
     "output_type": "stream",
     "text": [
      "4 3\n"
     ]
    }
   ],
   "source": [
    "t=x\n",
    "x=y\n",
    "y=t\n",
    "print(x,y)"
   ]
  },
  {
   "cell_type": "code",
   "execution_count": 9,
   "metadata": {},
   "outputs": [
    {
     "name": "stdout",
     "output_type": "stream",
     "text": [
      "3 4\n",
      "4 3\n"
     ]
    }
   ],
   "source": [
    "'''다중 대입문'''\n",
    "x,y=3,4\n",
    "print(x,y)\n",
    "x,y=y,x\n",
    "print(x,y)"
   ]
  },
  {
   "cell_type": "code",
   "execution_count": 10,
   "metadata": {},
   "outputs": [
    {
     "name": "stdout",
     "output_type": "stream",
     "text": [
      "1 3\n",
      "파이썬 프로그래밍\n",
      "3 5 34\n"
     ]
    }
   ],
   "source": [
    "'''변수 활용'''\n",
    "\n",
    "# 소,대문자 구분\n",
    "varname=1\n",
    "VarName=3\n",
    "print(varname,VarName)\n",
    "\n",
    " #문자열 포함 변수의 계산\n",
    "s1='파이썬'\n",
    "s2=' '\n",
    "s3='프로그래밍'\n",
    "s4=s1+s2+s3\n",
    "print(s4)\n",
    "\n",
    " #변수포함 계산식의 직접 적용\n",
    "a=3\n",
    "b=5\n",
    "c=a*a+b*b\n",
    "print(a,b,c)"
   ]
  },
  {
   "cell_type": "code",
   "execution_count": 13,
   "metadata": {},
   "outputs": [
    {
     "data": {
      "text/plain": [
       "'\\n 데이터 입력 받기\\n\\n'"
      ]
     },
     "execution_count": 13,
     "metadata": {},
     "output_type": "execute_result"
    }
   ],
   "source": [
    "\"\"\"\"\"\"\"\"\"\"\"\"\"\"\"\"\"\"\"\"\"\n",
    " 데이터 입력 받기\n",
    "\n",
    "\"\"\"\"\"\"\"\"\"\"\"\"\"\"\"\"\"\"\"\"\""
   ]
  },
  {
   "cell_type": "code",
   "execution_count": 21,
   "metadata": {},
   "outputs": [
    {
     "name": "stdout",
     "output_type": "stream",
     "text": [
      "학교: kmk\n",
      "학과: physics\n",
      "학번: 2014103332\n",
      "이름: kmk\n",
      "학교:  kmk 학과:  physics 학번:  2014103332 이름:  kmk\n",
      "학교:kmk 학과:physics 학번:2014103332 이름:kmk \n"
     ]
    },
    {
     "data": {
      "text/plain": [
       "str"
      ]
     },
     "execution_count": 21,
     "metadata": {},
     "output_type": "execute_result"
    }
   ],
   "source": [
    "'''사용자로부터 문자열 받기'''\n",
    "\n",
    " # 학번, 이름 입력 받고 출력\n",
    "univ_name=input('학교: ')\n",
    "dept_name=input('학과: ')\n",
    "stud_num=input('학번: ')\n",
    "name=input('이름: ')\n",
    "print('학교: ',univ_name, '학과: ',dept_name, '학번: ',stud_num, '이름: ',name)\n",
    "print('학교:%s 학과:%s 학번:%s 이름:%s ' %(univ_name, dept_name, stud_num, name))\n",
    "\n",
    "type(stud_num)\n",
    "type(name)\n"
   ]
  },
  {
   "cell_type": "code",
   "execution_count": 22,
   "metadata": {},
   "outputs": [
    {
     "name": "stdout",
     "output_type": "stream",
     "text": [
      "정수: 9\n",
      "10\n"
     ]
    }
   ],
   "source": [
    "'''사용자로부터 정수 입력 받기'''\n",
    "x=int(input('정수: '))\n",
    "y=x+1\n",
    "print(y)\n"
   ]
  },
  {
   "cell_type": "code",
   "execution_count": 23,
   "metadata": {},
   "outputs": [
    {
     "name": "stdout",
     "output_type": "stream",
     "text": [
      "정수1: 98\n",
      "정수2: 65\n",
      "163\n",
      "숫자 두 개를 입력하세요; 78,65\n",
      "합은  143\n"
     ]
    }
   ],
   "source": [
    "#사용자로부터 2개의 정수를 입력받아 각각 변수 x와 y에 대입하고\n",
    " #print() 함수를 이용하여 덧셈한 결과를 출력\n",
    "x=int(input('정수1: '))\n",
    "y=int(input('정수2: '))\n",
    "print(x+y)\n",
    "\n",
    "x,y=map(int, input('숫자 두 개를 입력하세요; ').split(','))\n",
    "print('합은 ',x+y)"
   ]
  },
  {
   "cell_type": "code",
   "execution_count": 25,
   "metadata": {},
   "outputs": [
    {
     "name": "stdout",
     "output_type": "stream",
     "text": [
      "이름:kmk\n",
      "출생년도:9876\n",
      "이름: kmk 출생년도: 9876\n",
      "이름: kmk 출생년도: 9876\n"
     ]
    }
   ],
   "source": [
    "#이름을 문자열로 대입하고 출생년도를 정수로 대입\n",
    "name=input(\"이름:\")\n",
    "year=int(input(\"출생년도:\"))\n",
    "print(\"이름:\",name,\"출생년도:\",year)\n",
    "print(\"이름: %s 출생년도: %s\" %(name, year))"
   ]
  },
  {
   "cell_type": "code",
   "execution_count": 26,
   "metadata": {},
   "outputs": [
    {
     "data": {
      "text/plain": [
       "'\\n 다양한 자료형으로 저장\\n\\n'"
      ]
     },
     "execution_count": 26,
     "metadata": {},
     "output_type": "execute_result"
    }
   ],
   "source": [
    "\"\"\"\"\"\"\"\"\"\"\"\"\"\"\"\"\"\"\"\"\"\n",
    " 다양한 자료형으로 저장\n",
    "\n",
    "\"\"\"\"\"\"\"\"\"\"\"\"\"\"\"\"\"\"\"\"\""
   ]
  },
  {
   "cell_type": "code",
   "execution_count": 27,
   "metadata": {},
   "outputs": [
    {
     "name": "stdout",
     "output_type": "stream",
     "text": [
      "<class 'int'>\n",
      "<class 'float'>\n",
      "<class 'str'>\n"
     ]
    }
   ],
   "source": [
    "'''대입에 의한 자료형 지정'''\n",
    "#정수\n",
    "x=1\n",
    "print(type(x))\n",
    "\n",
    "#실수\n",
    "x=3.14\n",
    "print(type(x))\n",
    "\n",
    "#문자열\n",
    "x=\"Text string\"\n",
    "print(type(x))"
   ]
  },
  {
   "cell_type": "code",
   "execution_count": 28,
   "metadata": {},
   "outputs": [
    {
     "name": "stdout",
     "output_type": "stream",
     "text": [
      "1 <class 'int'>\n",
      "3.14 <class 'float'>\n",
      "Text String <class 'str'>\n",
      "True <class 'bool'>\n",
      "[1, 2, 3] <class 'list'>\n",
      "(1, 2, 3) <class 'tuple'>\n",
      "{1, 2, 3} <class 'set'>\n",
      "{0: False, 1: True} <class 'dict'>\n"
     ]
    }
   ],
   "source": [
    "'''자료형 지정과 확인'''\n",
    " \n",
    " #변수 x에 정수 값 1, 실수 값 3.14, 문자열 값 \"Text string”을 순서대로 대입 저장 후,\n",
    " #변수 x의 값과 자료형을 출력하시오.\n",
    "x=1\n",
    "print(x,type(x))\n",
    "x=3.14\n",
    "print(x,type(x))\n",
    "x='Text String'\n",
    "print(x,type(x))\n",
    "\n",
    " #다른 자료형\n",
    "bool_data=True\n",
    "print(bool_data,type(bool_data))\n",
    "\n",
    "list_data=[1,2,3]\n",
    "print(list_data,type(list_data))\n",
    "\n",
    "tuple_data=(1,2,3)\n",
    "print(tuple_data,type(tuple_data))\n",
    "\n",
    "set_data={2,3,1}\n",
    "print(set_data,type(set_data))\n",
    "\n",
    "dict_data={0:False, 1:True}\n",
    "print(dict_data,type(dict_data))\n"
   ]
  },
  {
   "cell_type": "code",
   "execution_count": 29,
   "metadata": {},
   "outputs": [
    {
     "name": "stdout",
     "output_type": "stream",
     "text": [
      "3.14 <class 'str'>\n",
      "3.14 <class 'float'>\n",
      "3 <class 'int'>\n",
      "3 <class 'str'>\n",
      "실수 형태의 문자열: 7.8665\n",
      "7.8665 <class 'str'> 7.8665 <class 'float'> 7 <class 'int'> 7 <class 'str'>\n",
      "3.14 3 3.0\n",
      "3 3.0\n",
      "3.14 3\n"
     ]
    }
   ],
   "source": [
    "'''다른 자료형으로 변환하기'''\n",
    "\n",
    "#형 변환\n",
    "x1=\"3.14\"\n",
    "x2=float(x1)\n",
    "x3=int(x2)\n",
    "x4=str(x3)\n",
    "x_list=[x1,x2,x3,x4]\n",
    "\n",
    "for i in range(4):\n",
    "    print(x_list[i],type(x_list[i]))\n",
    "          \n",
    "#문자열 입력 후 실수,정수,문자열 변환\n",
    "text=input(\"실수 형태의 문자열: \")\n",
    "fnum=float(text)\n",
    "inum=int(fnum)\n",
    "tstr=str(inum)\n",
    "print(text,type(text), fnum,type(fnum), inum,type(inum), tstr,type(tstr))\n",
    "\n",
    "x=3.14\n",
    "y=int(x)\n",
    "z=float(y)\n",
    "print(x,y,z)\n",
    "\n",
    "inum=3\n",
    "fnum=float(inum)\n",
    "print(inum,fnum)\n",
    "\n",
    "fnum=3.14\n",
    "inum=int(fnum)\n",
    "print(fnum, inum)"
   ]
  },
  {
   "cell_type": "code",
   "execution_count": 30,
   "metadata": {},
   "outputs": [],
   "source": [
    "# 물리학과 2014103332 김민기 HW3_20191002\n",
    "\n",
    "# 04강 데이터 자료형 (시퀀스)"
   ]
  },
  {
   "cell_type": "code",
   "execution_count": 31,
   "metadata": {},
   "outputs": [
    {
     "name": "stdout",
     "output_type": "stream",
     "text": [
      "type(a)= <class 'list'>\n",
      "type(person) <class 'list'>\n",
      "[]\n",
      "[]\n",
      "[0, 1, 2, 3, 4, 5, 6, 7, 8, 9]\n",
      "[5, 6, 7, 8, 9, 10, 11]\n",
      "[-4, -2, 0, 2, 4, 6, 8]\n",
      "[10, 9, 8, 7, 6, 5, 4, 3, 2, 1]\n"
     ]
    }
   ],
   "source": [
    "'''리스트'''\n",
    "\n",
    "a = [38, 21, 53, 62, 19]\n",
    "person = ['james', 17, 175.3, True]\n",
    "print('type(a)=', type(a))\n",
    "print('type(person)', type(person))\n",
    "\n",
    "a = []\n",
    "print(a)\n",
    "\n",
    "b = list()\n",
    "print(b)\n",
    "\n",
    "a = list(range(10))\n",
    "print(a)\n",
    "\n",
    "b = list(range(5, 12))\n",
    "print(b)\n",
    "\n",
    "c = list(range(-4, 10, 2))\n",
    "print(c)\n",
    "\n",
    "d = list(range(10, 0, -1))\n",
    "print(d)"
   ]
  },
  {
   "cell_type": "code",
   "execution_count": 32,
   "metadata": {},
   "outputs": [
    {
     "name": "stdout",
     "output_type": "stream",
     "text": [
      "type of  (38, 21, 53, 62, 19) =  <class 'tuple'>\n",
      "type of  (38, 21, 53, 62, 19) =  <class 'tuple'>\n",
      "(4, 5, 6)\n",
      "[4, 5, 6]\n",
      "['H', 'e', 'l', 'l', 'o']\n",
      "('H', 'e', 'l', 'l', 'o')\n"
     ]
    }
   ],
   "source": [
    "'''튜플'''\n",
    "\n",
    "a = (38, 21, 53, 62, 19)\n",
    "print('type of ',a,'= ', type(a))\n",
    "b = 38, 21, 53, 62, 19\n",
    "print('type of ',b,'= ', type(a))\n",
    "\n",
    "person = ('james', 17, 175.3, True)\n",
    "(38,)\n",
    "38,\n",
    "\n",
    "a = [1, 2, 3]\n",
    "tuple(a)\n",
    "b = (4, 5, 6)\n",
    "print(b)\n",
    "\n",
    "print(list(b))\n",
    "\n",
    "\n",
    "print(list('Hello'))\n",
    "print(tuple('Hello'))"
   ]
  },
  {
   "cell_type": "code",
   "execution_count": 33,
   "metadata": {},
   "outputs": [
    {
     "name": "stdout",
     "output_type": "stream",
     "text": [
      "{'health': 490, 'mana': 334, 'melee': 550, 'armor': 18.72}\n",
      "{'health': 800, 'mana': 334, 'melee': 550, 'armor': 18.72}\n",
      "{100: 'hundred', False: 0, 3.5: [3.5, 3.5]}\n"
     ]
    }
   ],
   "source": [
    "'''딕셔너리'''\n",
    "\n",
    "lux = [490, 334, 550, 18.72]\n",
    "lux = {'health': 490, 'mana': 334, 'melee':550, 'armor': 18.72}\n",
    "print(lux)\n",
    "lux = {'health': 490, 'health': 800, 'mana':334, 'melee': 550, 'armor': 18.72}\n",
    "print(lux) # 중복되는 키는 가장 뒤에 있는 값을 불러옴\n",
    "x = {100: 'hundred', False: 0, 3.5: [3.5, 3.5]}\n",
    "print(x)"
   ]
  },
  {
   "cell_type": "code",
   "execution_count": 34,
   "metadata": {},
   "outputs": [
    {
     "name": "stdout",
     "output_type": "stream",
     "text": [
      "{'health': 490, 'mana': 334, 'melee': 550, 'armor': 18.72} \n",
      " {'health': 490, 'mana': 334, 'melee': 550, 'armor': 18.72} \n",
      " {'health': 490, 'mana': 334, 'melee': 550, 'armor': 18.72} \n",
      " {'health': 490, 'mana': 334, 'melee': 550, 'armor': 18.72}\n"
     ]
    }
   ],
   "source": [
    "'''딕셔너리 만들기'''\n",
    "\n",
    "lux1 = dict(health=490, mana=334, melee=550, armor=18.72)\n",
    "lux2 = dict(zip(['health', 'mana', 'melee', 'armor'], [490, 334, 550, 18.72]))\n",
    "lux3 = dict([('health', 490), ('mana', 334), ('melee', 550), ('armor', 18.72)])\n",
    "lux4 = dict({'health': 490, 'mana': 334, 'melee': 550, 'armor': 18.72})\n",
    "print(lux1,'\\n', lux2,'\\n', lux3,'\\n', lux4)"
   ]
  },
  {
   "cell_type": "code",
   "execution_count": 35,
   "metadata": {},
   "outputs": [
    {
     "name": "stdout",
     "output_type": "stream",
     "text": [
      "490\n",
      "{'health': 2037, 'mana': 1184, 'melee': 550, 'armor': 18.72}\n",
      "True\n",
      "True\n",
      "5\n"
     ]
    }
   ],
   "source": [
    "'''딕셔너리 참조'''\n",
    "\n",
    "lux = {'health': 490, 'mana': 334, 'melee': 550, 'armor': 18.72}\n",
    "print(lux['health'])\n",
    "lux['health'] = 2037  #키값 수정\n",
    "lux['mana'] = 1184\n",
    "print(lux)\n",
    "lux['mana_regen'] = 3.28\n",
    "print('health' in lux)\n",
    "print('attack_speed' not in lux)\n",
    "print(len(lux))"
   ]
  },
  {
   "cell_type": "code",
   "execution_count": 36,
   "metadata": {},
   "outputs": [
    {
     "name": "stdout",
     "output_type": "stream",
     "text": [
      "True\n",
      "[0, 10, 20, 30, 9, 8, 7, 6]\n",
      "[0, 2, 4, 0, 2, 4, 0, 2, 4]\n",
      "(0, 2, 4, 0, 2, 4, 0, 2, 4)\n"
     ]
    },
    {
     "data": {
      "text/plain": [
       "'Hello, Hello, Hello, '"
      ]
     },
     "execution_count": 36,
     "metadata": {},
     "output_type": "execute_result"
    }
   ],
   "source": [
    "'''시퀀스'''\n",
    "\n",
    "a = [0, 10, 20, 30, 40, 50, 60, 70, 80, 90]\n",
    "print(30 in a)\n",
    "\n",
    "a = [0, 10, 20, 30]\n",
    "b = [9, 8, 7, 6]\n",
    "print(a + b) # union\n",
    "\n",
    "#range(0, 10) + range(10, 20) range는 연산자로 연결 불가!\n",
    "list(range(0, 10)) + list(range(10, 20))\n",
    "tuple(range(0, 10)) + tuple(range(10, 20))\n",
    "\n",
    "'Hello, ' + 'world!'\n",
    "[0, 10, 20, 30] * 3\n",
    "#range(0, 5, 2) * 3 range는 연산자로 연결 불가!\n",
    "print(list(range(0, 5, 2)) * 3)\n",
    "print(tuple(range(0, 5, 2)) * 3)\n",
    "'Hello, ' * 3"
   ]
  },
  {
   "cell_type": "code",
   "execution_count": 37,
   "metadata": {},
   "outputs": [
    {
     "name": "stdout",
     "output_type": "stream",
     "text": [
      "10\n",
      "5\n",
      "5\n",
      "13\n",
      "38\n",
      "38\n",
      "19\n",
      "19\n",
      "[38, 21, 53, 62, 19]\n",
      "[38, 21, 62, 19]\n"
     ]
    }
   ],
   "source": [
    "'''시퀀스 활용'''\n",
    "\n",
    "a = [0, 10, 20, 30, 40, 50, 60, 70, 80, 90]\n",
    "print(len(a))\n",
    "\n",
    "b = (38, 76, 43, 62, 19)\n",
    "print(len(b))\n",
    "\n",
    "print(len(range(0, 10, 2)))\n",
    "\n",
    "hello = 'Hello, world!'\n",
    "print(len(hello))\n",
    "\n",
    "a = [38, 21, 53, 62, 19]\n",
    "print(a[0])\n",
    "\n",
    "b = (38, 21, 53, 62, 19)\n",
    "print(b[0])\n",
    "\n",
    "r = range(0, 10, 2)\n",
    "r[2]\n",
    "\n",
    "print(a[-1])\n",
    "#a[5] 시퀀스 길이보다 크면 안나옴!\n",
    "print(a[len(a) - 1])\n",
    "\n",
    "print(a)\n",
    "del a[2] #2+(1) 번째 원소 삭제\n",
    "print(a)"
   ]
  },
  {
   "cell_type": "code",
   "execution_count": 38,
   "metadata": {},
   "outputs": [
    {
     "name": "stdout",
     "output_type": "stream",
     "text": [
      "[0, 10, 20, 30, 40, 50, 60, 70, 80, 90]\n",
      "[0, 10, 20, 30]\n",
      "[]\n",
      "[10]\n",
      "[40, 50, 60, 70, 80]\n",
      "[20, 50]\n",
      "[0, 10, 20, 30, 40, 50, 60]\n",
      "[70, 80, 90]\n",
      "[0, 10, 20, 30, 40, 50, 60, 70, 80, 90]\n",
      "[0, 20, 40, 60]\n",
      "[70, 90]\n",
      "[0, 20, 40, 60, 80]\n",
      "[0, 10, 20, 30, 40, 50, 60, 70, 80, 90]\n",
      "[50, 40, 30, 20]\n",
      "[0, 10, 20, 30, 40, 50, 60, 70, 80, 90]\n",
      "[0, 10, 'a', 'b', 'c', 50, 60, 70, 80, 90]\n",
      "[0, 10, 'a', 50, 60, 70, 80, 90]\n",
      "[0, 10, 'a', 'b', 'c', 'd', 'e', 70, 80, 90]\n",
      "[0, 10, 'a', 'b', 'b', 'd', 'c', 70, 80, 90]\n",
      "[0, 10, 'd', 'c', 70, 80, 90]\n"
     ]
    }
   ],
   "source": [
    "'''시퀀스 슬라이스'''\n",
    "\n",
    "a=[0,10,20,30,40,50,60,70,80,90]\n",
    "print(a)\n",
    "\n",
    "print(a[0:4])\n",
    "print(a[1:1])\n",
    "print(a[1:2])\n",
    "print(a[4:-1])\n",
    "print(a[2:8:3])\n",
    "print(a[:7])\n",
    "print(a[7:])\n",
    "print(a[:])\n",
    "print(a[:7:2])\n",
    "print(a[7::2])\n",
    "print(a[::2])\n",
    "print(a[::])\n",
    "print(a[5:1:-1])\n",
    "print(a[0:len(a)])\n",
    "\n",
    "a[2:5] = ['a', 'b', 'c'] #element 수정\n",
    "print(a)\n",
    "a[2:5] = ['a']\n",
    "print(a)\n",
    "a[2:5] = ['a', 'b', 'c', 'd', 'e']\n",
    "print(a)\n",
    "a[2:8:2] = ['a', 'b', 'c']\n",
    "print(a)\n",
    "del a[2:5]\n",
    "print(a)\n",
    "del a[2:8:2]"
   ]
  },
  {
   "cell_type": "code",
   "execution_count": 39,
   "metadata": {},
   "outputs": [],
   "source": [
    "# 05강 데이터 계산하기"
   ]
  },
  {
   "cell_type": "code",
   "execution_count": 40,
   "metadata": {},
   "outputs": [
    {
     "name": "stdout",
     "output_type": "stream",
     "text": [
      "정수1, 정수2: 89, 76\n",
      "165\n",
      "13\n",
      "6764\n",
      "1.1710526315789473\n",
      "이름 : kmk\n",
      "출생년도 : 8769\n",
      "이름 :  kmk\n",
      "출생년도 :  8769\n",
      "나이 :  -6749\n",
      "거스름돈 금액 : 5000\n",
      "거스름돈: 5000 원 500원: 10 100원: 0 50원: 0 10원: 0\n"
     ]
    }
   ],
   "source": [
    "'''수식과 연산자'''\n",
    "\n",
    "'''\n",
    "사용자로부터 2개의 정수를 입력받아 각각 변수 x와 y에 대입하고 print()\n",
    "함수를 이용해서 사칙연산의 결과를 출력\n",
    "'''\n",
    "x,y=map(int,input(\"정수1, 정수2: \").split(','))\n",
    "\n",
    "print(x+y)\n",
    "print(x-y)\n",
    "print(x*y)\n",
    "print(x/y)\n",
    "\n",
    "'''\n",
    "나이 게산\n",
    "'''\n",
    "import datetime\n",
    "current_year=datetime.datetime.today().year\n",
    "\n",
    "name = input('이름 : ')\n",
    "birth_year = int(input('출생년도 : '))\n",
    "age = current_year - birth_year + 1\n",
    "print('이름 : ', name)\n",
    "print('출생년도 : ', birth_year)\n",
    "print('나이 : ', age)\n",
    "\n",
    "'''\n",
    "10원 이상의 거스름돈에 해당하는 정수를 입력받아 줘야하는\n",
    "500원, 100원, 50원, 10원 동전의 개수를 구하기\n",
    "'''\n",
    "x = int(input('거스름돈 금액 : '))\n",
    "x500 = x // 500\n",
    "temp = x % 500\n",
    "x100 = temp // 100\n",
    "temp = temp % 100\n",
    "x50 = temp // 50\n",
    "temp = temp % 50\n",
    "x10 = temp // 10\n",
    "print(\"거스름돈:\", x, '원', \"500원:\", x500, \"100원:\", x100, \"50원:\", x50, \"10원:\", x10)\n"
   ]
  },
  {
   "cell_type": "code",
   "execution_count": 41,
   "metadata": {},
   "outputs": [
    {
     "name": "stdout",
     "output_type": "stream",
     "text": [
      "정수 : 89\n",
      "89\n",
      "91\n",
      "89\n",
      "178\n",
      "89.0\n",
      "3 2 3\n",
      "3 2 3\n"
     ]
    }
   ],
   "source": [
    "'''복합 대입 연산자'''\n",
    "\n",
    "'''\n",
    "정수를 입력받아 변수 x에 대입 후 사칙연산을 위한 복합 대입 연산자를 활용하여\n",
    "변수 x에 각각 2를 계산하고 출력\n",
    "'''\n",
    "x = int(input('정수 : '))\n",
    "print(x)\n",
    "x += 2\n",
    "print(x)\n",
    "x -= 2\n",
    "print(x)\n",
    "x *= 2\n",
    "print(x)\n",
    "x /= 2\n",
    "print(x)\n",
    "\n",
    "'''\n",
    "복합 대입 연산자 비교\n",
    "'''\n",
    "a = 1\n",
    "b = 2\n",
    "c = 3\n",
    "a = a + b\n",
    "b = b + a - c\n",
    "c = c * (a - b)\n",
    "print(a, b, c)\n",
    "\n",
    "a = 1\n",
    "b = 2\n",
    "c = 3\n",
    "a += b\n",
    "b += (a - c)\n",
    "c *= (a - b)\n",
    "print(a, b, c)\n"
   ]
  },
  {
   "cell_type": "code",
   "execution_count": 42,
   "metadata": {},
   "outputs": [
    {
     "name": "stdout",
     "output_type": "stream",
     "text": [
      "값1 : 78\n",
      "값2 : 65\n",
      "평균 : 71.5\n",
      "평균(사실 아님) : 110.5\n"
     ]
    }
   ],
   "source": [
    "'''연산자 우선순위'''\n",
    "\n",
    "'''\n",
    "두 정수를 입력 받아 평균값을 구해서 출력\n",
    "'''\n",
    "\n",
    "x = int(input('값1 : '))\n",
    "y = int(input('값2 : '))\n",
    "z = (x + y) / 2\n",
    "print(\"평균 :\", z)\n",
    "z1 = x + y / 2\n",
    "print(\"평균(사실 아님) :\", z1)"
   ]
  },
  {
   "cell_type": "code",
   "execution_count": 43,
   "metadata": {},
   "outputs": [],
   "source": [
    "# 물리학과 2014103332 김민기 HW4_20191010\n",
    "\n",
    "# 06강 알고리즘 사고와 선택"
   ]
  },
  {
   "cell_type": "code",
   "execution_count": 44,
   "metadata": {},
   "outputs": [
    {
     "name": "stdout",
     "output_type": "stream",
     "text": [
      "6 > 2 True\n",
      "6 >= 2 True\n",
      "6 < 2 False\n",
      "6 <= 2 False\n",
      "6 == 2 False\n",
      "6 != 2 True\n",
      "x =  2 y =  2\n"
     ]
    }
   ],
   "source": [
    "'''관계연산자'''\n",
    "\n",
    "x = 6\n",
    "y = 2\n",
    "print(x, '>', y, x > y)\n",
    "print(x, '>=', y, x >= y)\n",
    "print(x, '<', y, x < y)\n",
    "print(x, '<=', y, x <= y)\n",
    "print(x, '==', y, x == y)\n",
    "print(x, '!=', y, x != y)\n",
    "\n",
    "x = y\n",
    "print('x = ', x, 'y = ', y)"
   ]
  },
  {
   "cell_type": "code",
   "execution_count": 46,
   "metadata": {},
   "outputs": [
    {
     "name": "stdout",
     "output_type": "stream",
     "text": [
      "True\n",
      "True\n",
      "두개의 숫자를 입력하세요: 67 56\n",
      "False\n",
      "두개의 숫자를 입력하세요: 98 65\n",
      "True\n"
     ]
    }
   ],
   "source": [
    "'''논리연산자 실습'''\n",
    "\n",
    "k = 90\n",
    "e = 85\n",
    "print(k >= 80 and e >= 80)\n",
    "print(k >= 80 or e >= 80)\n",
    "k, e = map(int,input(\"두개의 숫자를 입력하세요: \").split())\n",
    "print(k >= 80 and e >= 80)\n",
    "k, e = map(int,input(\"두개의 숫자를 입력하세요: \").split())\n",
    "print(k >= 80 or e >= 80)"
   ]
  },
  {
   "cell_type": "code",
   "execution_count": 47,
   "metadata": {},
   "outputs": [
    {
     "data": {
      "text/plain": [
       "'if 문 연습'"
      ]
     },
     "execution_count": 47,
     "metadata": {},
     "output_type": "execute_result"
    }
   ],
   "source": [
    "'''if 문 연습'''"
   ]
  },
  {
   "cell_type": "code",
   "execution_count": 48,
   "metadata": {},
   "outputs": [
    {
     "name": "stdout",
     "output_type": "stream",
     "text": [
      "pass\n"
     ]
    }
   ],
   "source": [
    "'''\n",
    "score의 값이 65이고, score가 60이상이면 'pass'출력\n",
    "'''\n",
    "\n",
    "score = 65\n",
    "if score >= 60:\n",
    "    print(\"pass\")"
   ]
  },
  {
   "cell_type": "code",
   "execution_count": 49,
   "metadata": {},
   "outputs": [
    {
     "name": "stdout",
     "output_type": "stream",
     "text": [
      "두개의 숫자를 입력하세요: 56 76\n",
      "76 가 크다\n",
      "어떤 수가 큰지 판단함\n"
     ]
    }
   ],
   "source": [
    "'''\n",
    "두 수를 입력받아 a,b에 대입한다. If 문의 a<b가 참이면\n",
    "'b가 크다'출력. 아니면 '어떤 수가 큰지 판단함'\n",
    "'''\n",
    "\n",
    "a, b = map(int,input(\"두개의 숫자를 입력하세요: \").split())\n",
    "if a < b:\n",
    "    print(b, '가 크다')\n",
    "print('어떤 수가 큰지 판단함')"
   ]
  },
  {
   "cell_type": "code",
   "execution_count": 50,
   "metadata": {},
   "outputs": [
    {
     "name": "stdout",
     "output_type": "stream",
     "text": [
      "정수를 입력하세요: 65\n",
      "양수\n"
     ]
    }
   ],
   "source": [
    "'''\n",
    "정수를 입력 받아 num에 대입한 수 양수, 0, 음수를 판단하기 위해\n",
    "세개의 if문을 사용\n",
    "'''\n",
    "\n",
    "num = int(input(\"정수를 입력하세요: \"))\n",
    "if num > 0:\n",
    "    print('양수')\n",
    "if num == 0:\n",
    "    print('0')\n",
    "if num < 0:\n",
    "    print('음수')"
   ]
  },
  {
   "cell_type": "code",
   "execution_count": 51,
   "metadata": {},
   "outputs": [
    {
     "data": {
      "text/plain": [
       "'\\nif-else문 연습\\n'"
      ]
     },
     "execution_count": 51,
     "metadata": {},
     "output_type": "execute_result"
    }
   ],
   "source": [
    "'''\n",
    "if-else문 연습\n",
    "'''"
   ]
  },
  {
   "cell_type": "code",
   "execution_count": 52,
   "metadata": {},
   "outputs": [
    {
     "name": "stdout",
     "output_type": "stream",
     "text": [
      "국어, 영어 성적을 입력하세요: 80 86\n",
      "합격입니다.\n",
      "국어, 영어 성적을 입력하세요: 76 98\n",
      "불합격입니다.\n"
     ]
    }
   ],
   "source": [
    "'''\n",
    "두 수를 입력받아 kor_score와 eng_score의 변수에 저장하고 값이 모두\n",
    "80 이상인 경우 '합격입니다.' 출력, 아니면 '블합격입니다.'\n",
    "'''\n",
    "\n",
    "kor_score, eng_score = map(int,input(\"국어, 영어 성적을 입력하세요: \").split())\n",
    "if kor_score >= 80 and eng_score >= 80:\n",
    "    print('합격입니다.')\n",
    "else:\n",
    "    print('불합격입니다.')\n",
    "\n",
    "kor_score, eng_score = map(int,input(\"국어, 영어 성적을 입력하세요: \").split())\n",
    "if kor_score < 80 or eng_score < 80:\n",
    "    print('불합격입니다.')\n",
    "else:\n",
    "    print('합격입니다.')"
   ]
  },
  {
   "cell_type": "code",
   "execution_count": 53,
   "metadata": {},
   "outputs": [
    {
     "name": "stdout",
     "output_type": "stream",
     "text": [
      "정수 :78\n",
      "짝수\n"
     ]
    }
   ],
   "source": [
    "'''\n",
    "정수를 입력 받아 num 저장 후 짝수, 홀수 출력\n",
    "'''\n",
    "\n",
    "num = int(input(\"정수 :\"))\n",
    "if num%2 == 0:   #2로 나눈 나머지\n",
    "    print(\"짝수\")\n",
    "else:\n",
    "    print(\"홀수\")\n"
   ]
  },
  {
   "cell_type": "code",
   "execution_count": 54,
   "metadata": {},
   "outputs": [
    {
     "data": {
      "text/plain": [
       "'\\nif-elif-else문 실습\\n'"
      ]
     },
     "execution_count": 54,
     "metadata": {},
     "output_type": "execute_result"
    }
   ],
   "source": [
    "'''\n",
    "if-elif-else문 실습\n",
    "'''\n"
   ]
  },
  {
   "cell_type": "code",
   "execution_count": 55,
   "metadata": {},
   "outputs": [
    {
     "name": "stdout",
     "output_type": "stream",
     "text": [
      "점수 : 78\n",
      "C\n"
     ]
    }
   ],
   "source": [
    "'''\n",
    "점수를 입력받아 점수가 90점 이상이면 A, 80점 이상이면 B, 70점 이상이면 C\n",
    "60점 이상이면 D 60점 미만이면 F 출력\n",
    "'''\n",
    "\n",
    "score = int(input('점수 : '))\n",
    "if score >= 90:\n",
    "    print(\"A\")\n",
    "elif score >= 80:\n",
    "    print(\"B\")\n",
    "elif score >= 70:\n",
    "    print(\"C\")\n",
    "elif score >= 60:\n",
    "    print(\"D\")\n",
    "else:\n",
    "    print(\"F\")"
   ]
  },
  {
   "cell_type": "code",
   "execution_count": 56,
   "metadata": {},
   "outputs": [
    {
     "name": "stdout",
     "output_type": "stream",
     "text": [
      "정수 :98\n",
      "양수\n"
     ]
    }
   ],
   "source": [
    "'''\n",
    "양수, 음수, 0 구분출력\n",
    "'''\n",
    "\n",
    "num = int(input(\"정수 :\"))\n",
    "if num == 0:\n",
    "    print(\"0\")\n",
    "elif num > 0:\n",
    "    print(\"양수\")\n",
    "else:\n",
    "    print(\"음수\")"
   ]
  },
  {
   "cell_type": "code",
   "execution_count": 57,
   "metadata": {},
   "outputs": [],
   "source": [
    "# 물리학과 2014103332 김민기 HW5_20191016\n",
    "# 07강 알고리즘 사고와 반복"
   ]
  },
  {
   "cell_type": "code",
   "execution_count": 58,
   "metadata": {},
   "outputs": [
    {
     "name": "stdout",
     "output_type": "stream",
     "text": [
      "파이썬\n",
      "파이썬\n",
      "파이썬\n",
      "파이썬\n",
      "파이썬\n",
      "파이썬 1\n",
      "파이썬 2\n",
      "파이썬 3\n",
      "파이썬 4\n",
      "파이썬 5\n",
      "0 1 2 3 4 "
     ]
    }
   ],
   "source": [
    "'''\n",
    "횟수만큼 반복\n",
    "'''\n",
    "for i in [1,2,3,4,5]:\n",
    "    print('파이썬')\n",
    "\n",
    "for i in [1,2,3,4,5]:\n",
    "    print('파이썬',i)\n",
    "\n",
    "for i in range(5):\n",
    "    print(i, end= ' ')"
   ]
  },
  {
   "cell_type": "code",
   "execution_count": 59,
   "metadata": {},
   "outputs": [
    {
     "name": "stdout",
     "output_type": "stream",
     "text": [
      "s:  15\n",
      "0\n",
      "i:  1 s:  1\n",
      "i:  2 s:  3\n",
      "i:  3 s:  6\n",
      "i:  4 s:  10\n",
      "i:  5 s:  15\n",
      "s : 15\n",
      "0\n",
      "s : 15\n",
      "0\n",
      "i : 1 , s : 1\n",
      "i : 2 , s : 3\n",
      "i : 3 , s : 6\n",
      "i : 4 , s : 10\n",
      "i : 5 , s : 15\n",
      "s : 15\n"
     ]
    }
   ],
   "source": [
    "'''\n",
    "for 문 실습\n",
    "list/range()를 이용해서 1부터 5까지 정수의 합계를 구하시오\n",
    "'''\n",
    "#1\n",
    "s = 0\n",
    "for i in [1,2,3,4,5]:\n",
    "    s += i\n",
    "print('s: ',s)\n",
    "\n",
    "#2\n",
    "s = 0\n",
    "print(s)\n",
    "for i in [1,2,3,4,5]:\n",
    "    s += i\n",
    "    print('i: ', i,'s: ',s)\n",
    "print('s :', s)\n",
    "\n",
    "#3\n",
    "s=0\n",
    "print(s)\n",
    "for i in [5, 4, 3, 2, 1]:\n",
    "    s = s + i\n",
    "print('s :', s)  \n",
    "\n",
    "#4\n",
    "s=0\n",
    "print(s)\n",
    "for i in range(1, 6):\n",
    "    s = s + i\n",
    "    print('i :', i, ', s :', s)\n",
    "print('s :', s)\n"
   ]
  },
  {
   "cell_type": "code",
   "execution_count": 60,
   "metadata": {},
   "outputs": [
    {
     "name": "stdout",
     "output_type": "stream",
     "text": [
      "0\n",
      "i : 1 , s : 1\n",
      "i : 3 , s : 4\n",
      "i : 5 , s : 9\n",
      "i : 7 , s : 16\n",
      "i : 9 , s : 25\n",
      "s : 25\n"
     ]
    }
   ],
   "source": [
    "'''\n",
    "1 부터 10까지 홀수의 합\n",
    "'''\n",
    "s=0\n",
    "print(s)\n",
    "for i in range(1, 11, 2):\n",
    "    s = s + i\n",
    "    print('i :', i, ', s :', s)\n",
    "print('s :', s)\n"
   ]
  },
  {
   "cell_type": "code",
   "execution_count": 61,
   "metadata": {},
   "outputs": [
    {
     "data": {
      "text/plain": [
       "'\\nwhile문 실습\\n'"
      ]
     },
     "execution_count": 61,
     "metadata": {},
     "output_type": "execute_result"
    }
   ],
   "source": [
    "'''\n",
    "while문 실습\n",
    "'''"
   ]
  },
  {
   "cell_type": "code",
   "execution_count": 62,
   "metadata": {},
   "outputs": [
    {
     "name": "stdout",
     "output_type": "stream",
     "text": [
      "1 2 3 4 5  \n",
      "6\n"
     ]
    }
   ],
   "source": [
    "'''\n",
    "1부터 5까지 출력\n",
    "'''\n",
    "i = 1\n",
    "while i <= 5:\n",
    "    print(i, end=' ')\n",
    "    i += 1\n",
    "print(' ')\n",
    "print(i)\n",
    "# while 문 전에 초기조건 설정\n",
    "# 조건식이 참이면 수행/ 아니면 x\n"
   ]
  },
  {
   "cell_type": "code",
   "execution_count": 63,
   "metadata": {},
   "outputs": [
    {
     "name": "stdout",
     "output_type": "stream",
     "text": [
      "n:  2 s:  2\n",
      "n:  4 s:  6\n",
      "n:  6 s:  12\n",
      "n:  8 s:  20\n",
      "n:  10 s:  30\n",
      "n:  11\n",
      "s:  30\n"
     ]
    }
   ],
   "source": [
    "'''\n",
    "1부터 시작하여 루프 제어변수 n값이 10보다 작거나 같을 때까지 반복하면서\n",
    "숫자가 짝수인 경우의 합계를 구함 (단, 루프 제어 변수n은 1씩 증가함)\n",
    "'''\n",
    "n = 1\n",
    "s = 0\n",
    "while n <= 10:\n",
    "    if n%2 == 0:\n",
    "        s += n\n",
    "        print('n: ', n, 's: ', s)\n",
    "    n += 1\n",
    "print('n: ',n)\n",
    "print('s: ',s)\n"
   ]
  },
  {
   "cell_type": "code",
   "execution_count": 64,
   "metadata": {},
   "outputs": [
    {
     "name": "stdout",
     "output_type": "stream",
     "text": [
      "n:  9 s:  9\n",
      "n:  7 s:  16\n",
      "n:  5 s:  21\n",
      "n:  3 s:  24\n",
      "n:  1 s:  25\n",
      "n:  -1\n",
      "s:  25\n",
      "____________\n"
     ]
    }
   ],
   "source": [
    "'''\n",
    "while문을 이용하여 9부터 1까지 반복하면서 홀수의 합을 구함\n",
    "(단, 루프 제어 변수n은 -2씩 변화함)\n",
    "'''\n",
    "n = 9\n",
    "s = 0\n",
    "while n >= 1:\n",
    "    if n%2 == 1:\n",
    "        s += n\n",
    "        print('n: ', n, 's: ', s)\n",
    "    n += -2\n",
    "print('n: ',n)\n",
    "print('s: ',s)\n",
    "\n",
    "print(\"____________\")"
   ]
  },
  {
   "cell_type": "code",
   "execution_count": 65,
   "metadata": {},
   "outputs": [
    {
     "name": "stdout",
     "output_type": "stream",
     "text": [
      "1 3  \n",
      "4\n"
     ]
    }
   ],
   "source": [
    "'''\n",
    "루프 제어(루프 탈출과 계속 반복)\n",
    "'''\n",
    "\n",
    "#loop 제어\n",
    "for i in  [1,2,3,4,5]:\n",
    "    if  i == 4:\n",
    "        break\n",
    "    if i%2 == 0:\n",
    "        continue  #짝수를 안보여줌\n",
    "    print(i, end=' ')\n",
    "\n",
    "print(' ')\n",
    "print(i)"
   ]
  },
  {
   "cell_type": "code",
   "execution_count": 66,
   "metadata": {},
   "outputs": [
    {
     "name": "stdout",
     "output_type": "stream",
     "text": [
      "i:  2 s:  2\n",
      "i:  4 s:  6\n",
      "i:  6 s:  12\n",
      "i:  8 s:  20\n",
      "i:  10 s:  30\n",
      "i:  12 s:  42\n",
      "i:  12 s:  42\n"
     ]
    }
   ],
   "source": [
    "'''\n",
    "for 문을 이용하여 1부터 20까지 반복하면서 홀수인 경우\n",
    "continue를 사용하여 반복을 계속 진행하고, 짝수인 경우만 합계를 구함.\n",
    "단, 합계가 30을 넘을 경우, 반복을 종료함. 반복을 진행하면서\n",
    "반복 진행 횟수와 합계를 계속 표시하고, 반복이 종료된 후에도 표시함.\n",
    "'''\n",
    "s = 0\n",
    "for i in range(1,21):\n",
    "    if i%2 == 1:\n",
    "        continue\n",
    "    s += i\n",
    "    print('i: ',i, 's: ',s)\n",
    "    if s > 30:\n",
    "        break\n",
    "print('i: ',i, 's: ',s)"
   ]
  },
  {
   "cell_type": "code",
   "execution_count": 67,
   "metadata": {},
   "outputs": [
    {
     "name": "stdout",
     "output_type": "stream",
     "text": [
      "i:  1 s:  1\n",
      "i:  3 s:  4\n",
      "i:  5 s:  9\n",
      "i:  7 s:  16\n",
      "i:  9 s:  25\n",
      "i:  11 s:  36\n",
      "i:  11 s:  36\n"
     ]
    }
   ],
   "source": [
    "'''\n",
    "for 문을 이용하여 1부터 20까지 반복하면서 짝수인 경우\n",
    "continue를 사용하여 반복을 계속 진행하고, 홀수인 경우만 합계를 구함.\n",
    "단, 합계가 30을 넘을 경우, 반복을 종료함. 반복을 진행하면서\n",
    "반복 진행 횟수와 합계를 계속 표시하고, 반복이 종료된 후에도 표시함.\n",
    "'''\n",
    "\n",
    "s = 0\n",
    "for i in range(1,21):\n",
    "    if i%2 == 0:\n",
    "        continue\n",
    "    s += i\n",
    "    print('i: ',i, 's: ',s)\n",
    "    if s > 30:\n",
    "        break\n",
    "print('i: ',i, 's: ',s)\n"
   ]
  },
  {
   "cell_type": "code",
   "execution_count": 68,
   "metadata": {},
   "outputs": [],
   "source": [
    "# 함수"
   ]
  },
  {
   "cell_type": "code",
   "execution_count": 69,
   "metadata": {},
   "outputs": [
    {
     "name": "stdout",
     "output_type": "stream",
     "text": [
      "12345678\n",
      "홍길동\n",
      "12345678\n",
      "홍길동\n",
      "\n",
      "12345678\n",
      "홍길동\n",
      "12345678\n",
      "홍길동\n",
      "\n",
      "12345678\n",
      "홍길동\n",
      "12345678\n",
      "홍길동\n",
      "\n",
      "12345678\n",
      "홍길동\n",
      "12345678\n",
      "홍길동\n",
      " \n"
     ]
    }
   ],
   "source": [
    "'''\n",
    "다음 동작을 순서대로 작성하시오.\n",
    "1 print() 함수를 이용하여 순서대로 학번과 성명을 2회 출력하시오.\n",
    "2 for 문을 이용하여 학번과 성명을 2회 출력하시오.\n",
    "3 학번과 성명을 출력하는 sn() 함수를 만든 후 sn() 함수를 2회 호출하시오.\n",
    "4 for 문을 이용하여 sn() 함수를 2회 호출하시오.\n",
    "'''\n",
    "#1\n",
    "print(\"12345678\")\n",
    "print(\"홍길동\")\n",
    "print(\"12345678\")\n",
    "print(\"홍길동\")\n",
    "print(\"\")\n",
    "\n",
    "#2\n",
    "for i in range(2):\n",
    "    print(\"12345678\")\n",
    "    print(\"홍길동\")\n",
    "print(\"\")\n",
    "\n",
    "#3\n",
    "def sn():\n",
    "    print(\"12345678\")\n",
    "    print(\"홍길동\")\n",
    "\n",
    "sn()\n",
    "sn()\n",
    "print('')\n",
    "\n",
    "#4\n",
    "for i in range(2):\n",
    "    sn()\n",
    "print(' ')\n"
   ]
  },
  {
   "cell_type": "code",
   "execution_count": 71,
   "metadata": {},
   "outputs": [
    {
     "name": "stdout",
     "output_type": "stream",
     "text": [
      "1 2 3 4 5 6 7 8 9  \n",
      "1 2 3 4 5 6 7 8 9  \n"
     ]
    }
   ],
   "source": [
    "'''\n",
    "1부터 9까지 출력하는 함수 print19()를 for문을 이용하여 작성하여 2회 호출하시오.\n",
    "'''\n",
    "def print19():\n",
    "    for i in range(1,10):\n",
    "        print(i, end=' ')\n",
    "    print(' ')\n",
    "\n",
    "for i in range(2):\n",
    "    print19()"
   ]
  },
  {
   "cell_type": "code",
   "execution_count": 72,
   "metadata": {},
   "outputs": [
    {
     "name": "stdout",
     "output_type": "stream",
     "text": [
      "4 + 5 = 9\n"
     ]
    }
   ],
   "source": [
    "def fadd(n,m):\n",
    "    s=n+m\n",
    "    return print(n,\"+\",m,\"=\",s)\n",
    "\n",
    "fadd(4,5)"
   ]
  },
  {
   "cell_type": "code",
   "execution_count": 74,
   "metadata": {},
   "outputs": [
    {
     "name": "stdout",
     "output_type": "stream",
     "text": [
      "6 - 10 = -4\n"
     ]
    }
   ],
   "source": [
    "def fsubt(n,m):\n",
    "    s=n-m\n",
    "    print(n,\"-\",m,\"=\",s)\n",
    "\n",
    "fsubt(6,10)"
   ]
  },
  {
   "cell_type": "code",
   "execution_count": 75,
   "metadata": {},
   "outputs": [
    {
     "name": "stdout",
     "output_type": "stream",
     "text": [
      "단: 8\n",
      "8 * 1 = 8\n",
      "8 * 2 = 16\n",
      "8 * 3 = 24\n",
      "8 * 4 = 32\n",
      "8 * 5 = 40\n",
      "8 * 6 = 48\n",
      "8 * 7 = 56\n",
      "8 * 8 = 64\n",
      "8 * 9 = 72\n"
     ]
    }
   ],
   "source": [
    "def calc_gugudan(dan):\n",
    "    for i in range(1,10):\n",
    "        print(\"%d * %d = %d\" %(dan,i,dan*i))\n",
    "\n",
    "d = int(input(\"단: \"))\n",
    "\n",
    "if d > 9:\n",
    "    print(\"단은 1~9까지만 입력하세요\")\n",
    "else:\n",
    "    calc_gugudan(d)"
   ]
  },
  {
   "cell_type": "code",
   "execution_count": 76,
   "metadata": {},
   "outputs": [],
   "source": [
    "def calc_gugudan_ver2(dan):\n",
    "    if float(dan) != int(dan):\n",
    "        print(\"단은 자연수만 입력하세요\")\n",
    "    elif dan > 9 or dan <= 0:\n",
    "        print(\"단은 1~9까지만 입력하세요\")\n",
    "    else: \n",
    "        for i in range(1,10):\n",
    "            print(\"%d * %d = %d\" %(dan,i,dan*i))\n"
   ]
  },
  {
   "cell_type": "code",
   "execution_count": 77,
   "metadata": {},
   "outputs": [
    {
     "name": "stdout",
     "output_type": "stream",
     "text": [
      "단은 1~9까지만 입력하세요\n"
     ]
    }
   ],
   "source": [
    "calc_gugudan_ver2(45)"
   ]
  },
  {
   "cell_type": "code",
   "execution_count": 80,
   "metadata": {},
   "outputs": [
    {
     "name": "stdout",
     "output_type": "stream",
     "text": [
      "단은 1~9까지만 입력하세요\n"
     ]
    }
   ],
   "source": [
    "calc_gugudan_ver2(-5)"
   ]
  },
  {
   "cell_type": "code",
   "execution_count": 78,
   "metadata": {},
   "outputs": [
    {
     "name": "stdout",
     "output_type": "stream",
     "text": [
      "단은 자연수만 입력하세요\n"
     ]
    }
   ],
   "source": [
    "calc_gugudan_ver2(4.4)"
   ]
  },
  {
   "cell_type": "code",
   "execution_count": 79,
   "metadata": {},
   "outputs": [
    {
     "name": "stdout",
     "output_type": "stream",
     "text": [
      "4 * 1 = 4\n",
      "4 * 2 = 8\n",
      "4 * 3 = 12\n",
      "4 * 4 = 16\n",
      "4 * 5 = 20\n",
      "4 * 6 = 24\n",
      "4 * 7 = 28\n",
      "4 * 8 = 32\n",
      "4 * 9 = 36\n"
     ]
    }
   ],
   "source": [
    "calc_gugudan_ver2(4)"
   ]
  },
  {
   "cell_type": "code",
   "execution_count": 81,
   "metadata": {},
   "outputs": [],
   "source": [
    "'''\n",
    "시작에 해당되는 정수를 입력 받아 변수 s에 대입하고, 끝에 해당하는 정수를\n",
    "입력받아 변수 e에 대입한 후 for문을 이용하여 start부터 end까지\n",
    "출력하는 함수print19(start, end)를 작성하고 호출해 보자.\n",
    "(단, 입력한 변수 s의 값이 변수 e의 값 보다 작을 때만 함수를 호출함)\n",
    "'''\n",
    "\n",
    "def print19(st, ed):\n",
    "    if st >= ed:\n",
    "        print(\"끝값이 더 커야함\")\n",
    "    elif int(st) != float(st) or int(ed) != float(ed):\n",
    "        print(\"정수만 써야함\")\n",
    "    else:\n",
    "        for i in range(st,ed+1):\n",
    "            print(i, end=' ')\n",
    "        print(\" \")\n"
   ]
  },
  {
   "cell_type": "code",
   "execution_count": 82,
   "metadata": {},
   "outputs": [
    {
     "name": "stdout",
     "output_type": "stream",
     "text": [
      "3 4 5  \n"
     ]
    }
   ],
   "source": [
    "print19(3,5)"
   ]
  },
  {
   "cell_type": "code",
   "execution_count": 83,
   "metadata": {},
   "outputs": [
    {
     "name": "stdout",
     "output_type": "stream",
     "text": [
      "정수만 써야함\n"
     ]
    }
   ],
   "source": [
    "print19(3,5.5)"
   ]
  },
  {
   "cell_type": "code",
   "execution_count": 84,
   "metadata": {},
   "outputs": [
    {
     "name": "stdout",
     "output_type": "stream",
     "text": [
      "끝값이 더 커야함\n"
     ]
    }
   ],
   "source": [
    "print19(34,5.5)"
   ]
  },
  {
   "cell_type": "code",
   "execution_count": 85,
   "metadata": {},
   "outputs": [
    {
     "name": "stdout",
     "output_type": "stream",
     "text": [
      "반환값 = 7.000000\n"
     ]
    }
   ],
   "source": [
    "def add(n,m):\n",
    "    s=n+m\n",
    "    return s,n\n",
    "\n",
    "a=3\n",
    "b=4\n",
    "r=add(a,b)[0]\n",
    "print(\"반환값 = %f\" %(r))"
   ]
  },
  {
   "cell_type": "code",
   "execution_count": 86,
   "metadata": {},
   "outputs": [
    {
     "data": {
      "text/plain": [
       "(8, 3)"
      ]
     },
     "execution_count": 86,
     "metadata": {},
     "output_type": "execute_result"
    }
   ],
   "source": [
    "add(3,5)"
   ]
  },
  {
   "cell_type": "code",
   "execution_count": 87,
   "metadata": {},
   "outputs": [
    {
     "name": "stdout",
     "output_type": "stream",
     "text": [
      "값1: 45\n",
      "값2: 234\n",
      "평균=139.500000\n"
     ]
    }
   ],
   "source": [
    "'''\n",
    "사용자로부터 입력 받은 두 수의 평균값을 구하여 반환하는\n",
    "avg() 함수를 만들고 호출. 또한 avg() 함수의 결과를 반환 받아 출력\n",
    "'''\n",
    "def avg(num1, num2):\n",
    "    mean=(num1+num2)/2\n",
    "    return mean\n",
    "\n",
    "int1=int(input('값1: '))\n",
    "int2=int(input('값2: '))\n",
    "r=avg(int1, int2)\n",
    "print(\"평균=%f\" %(r))\n"
   ]
  },
  {
   "cell_type": "code",
   "execution_count": 88,
   "metadata": {},
   "outputs": [
    {
     "name": "stdout",
     "output_type": "stream",
     "text": [
      "값1: 45\n",
      "값2: 34\n",
      "값3: 65\n",
      "평균=48.000000\n"
     ]
    }
   ],
   "source": [
    "'''\n",
    "입력 값이 3개일 때의 평균을 구하는 avg() 함수로 변경하여 평균 계산을 수행\n",
    "'''\n",
    "def avg3(num1, num2, num3):\n",
    "    mean=(num1+num2+num3)/3\n",
    "    return mean\n",
    "\n",
    "int1=int(input('값1: '))\n",
    "int2=int(input('값2: '))\n",
    "int3=int(input('값3: '))\n",
    "r=avg3(int1, int2, int3)\n",
    "print(\"평균=%f\" %(r))"
   ]
  },
  {
   "cell_type": "markdown",
   "metadata": {},
   "source": [
    "### "
   ]
  }
 ],
 "metadata": {
  "kernelspec": {
   "display_name": "Python 3",
   "language": "python",
   "name": "python3"
  },
  "language_info": {
   "codemirror_mode": {
    "name": "ipython",
    "version": 3
   },
   "file_extension": ".py",
   "mimetype": "text/x-python",
   "name": "python",
   "nbconvert_exporter": "python",
   "pygments_lexer": "ipython3",
   "version": "3.6.7"
  }
 },
 "nbformat": 4,
 "nbformat_minor": 2
}
